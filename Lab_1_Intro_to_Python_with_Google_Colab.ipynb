{
 "cells": [
  {
   "cell_type": "markdown",
   "metadata": {
    "id": "jFMXieFM3rz3"
   },
   "source": [
    "Lab #1: Introduction to Python and Google Colabratory"
   ]
  },
  {
   "cell_type": "markdown",
   "metadata": {
    "id": "Fe6aDjJN3rz6"
   },
   "source": [
    "The hands-on assignmentsin this course will be given in python using a free online platform provided by google called Colab. The purpose of this assignment is to go over the basic of the Python language and to let you practice using the Colab platform.\n",
    "\n",
    "Enjoy 🙂"
   ]
  },
  {
   "cell_type": "markdown",
   "metadata": {
    "id": "VACmSMrX3rz7"
   },
   "source": [
    "## About Python\n",
    "\n",
    "Python is a programing language which has gain massive popularity in recent years both for building large systems and for quick prototyping and doing research. Here are a few motivational points for why we decided to use Python, and why should you learn it?\n",
    "\n",
    "- It is an extremely powerful programing language and yet very simple to learn and to get started with. ([See what XKCD has to say about it](https://xkcd.com/353/))\n",
    "- It is currently one of the most popular programming languages. ([It is the 3rd most popular language, after C and Java](https://www.tiobe.com/tiobe-index/))\n",
    "- Almost all new frameworks in the field of machine learning are python oriented: PyTorch, TensorFlow, Keras, etc.\n",
    "- It has a ridiculously rich set of packages for almost any task. From basic mathematical tools([basic numeric](http://www.numpy.org/), [advance numerics](https://www.scipy.org/scipylib/index.html), [symbolic math](https://www.sympy.org) [data handling](https://pandas.pydata.org/), [visualizing](https://mode.com/blog/python-data-visualization-libraries), etc.), through a range of advanced frameworks for [deep learning](https://www.kdnuggets.com/2017/02/python-deep-learning-frameworks-overview.html), [distributed computing](https://wiki.python.org/moin/ParallelProcessing), [web servers](https://www.djangoproject.com/), etc.\n",
    "- It's open-source (=> free++) with a huge community behind it.\n",
    "\n",
    "### Learning Python\n",
    "\n",
    "Learning the basic concepts of the language is relatively easy and is enough in order to get started. In this homework assignment we will try to briefly go through those basics, in order to get you up and running. However, this assignment does not come near of covering all the aspects of the language, and it is expected (and perfectly fine), that if this is your first time using Python it will take you a while (and maybe some frustration) to get the hang of it. This assignment does assume that you do have some minimal experience in programing.\n",
    "\n",
    "You will probably need every now and then to relay on the web for help to solve bugs and to understand parts of the code. There is a large number of great resources available on-line including the official documentation and sited dedicated for learning Python. These resources usually explain thing in a more detailed way that this introduction which. We have listed a few additional resources at the end of this assignment. You are encouraged to check them out whenever you get stuck.\n"
   ]
  },
  {
   "cell_type": "code",
   "execution_count": null,
   "metadata": {
    "colab": {
     "base_uri": "https://localhost:8080/"
    },
    "id": "k2CCsJWy3rz8",
    "outputId": "019d8983-c1bc-49e6-d666-053d92f0af28"
   },
   "outputs": [
    {
     "name": "stdout",
     "output_type": "stream",
     "text": [
      "x is equal to 3\n"
     ]
    }
   ],
   "source": [
    "x = 3\n",
    "print('x is equal to', x)"
   ]
  },
  {
   "cell_type": "markdown",
   "metadata": {
    "id": "FoaLdrj73rz9"
   },
   "source": [
    "### Running a cell\n",
    "\n",
    "To run a specific code cell, such as the one above, select the cell using the mouse or the up/down keys, and press **Shift+Enter**.\n",
    "\n",
    "Run the code cell above. You should see the output of this cell beneath it."
   ]
  },
  {
   "cell_type": "markdown",
   "metadata": {
    "id": "WpPY5N9B3rz-"
   },
   "source": [
    "### Saving and loading notebooks\n",
    "\n",
    "- To save a notebook press **Ctrl+S** (or select **save** from the **file** menu).\n",
    "- To load a saved notebook, open the **Colab Notebooks** folder in your [Google drive](https://drive.google.com/drive), and double click on the saved notebook. (If you did not rename it should appear as \"**Copy of ###.ipynb**\") Note that in Google Drive you can have more than 1 file with the same name in the same folder.\n",
    "\n",
    "✍️ Before you start, make sure that you can save and load this notebook. Start be replacing the text in the code cell below with our own ID numbers. Then save and load this notebook, and make sure that the IDs were indeed saved."
   ]
  },
  {
   "cell_type": "code",
   "execution_count": 1,
   "metadata": {
    "id": "joRIEAHw3rz_"
   },
   "outputs": [
    {
     "name": "stdout",
     "output_type": "stream",
     "text": [
      "You wrote: gjq2yf\n"
     ]
    }
   ],
   "source": [
    "## %%%%%%%%%%%%%%% Your code here - Begin %%%%%%%%%%%%%%%\n",
    "## Replace the test bellow with our own\n",
    "my_text = 'gjq2yf'\n",
    "## %%%%%%%%%%%%%%% Your code here - End %%%%%%%%%%%%%%%%%\n",
    "\n",
    "print('You wrote:', my_text)"
   ]
  },
  {
   "cell_type": "markdown",
   "metadata": {
    "id": "VTNIXe_63rz_"
   },
   "source": [
    "### Expending all cells\n",
    "\n",
    "When you open a new notebook some sections might be hidden (collapsed), showing only the title of the section with a \"↳ # cells hidden\" note beneath it. Before you start, make show you expand all the sections. You can do so by pressing **Ctrl+[** or by clicking on all the \"↳ # cells hidden\" lines."
   ]
  },
  {
   "cell_type": "markdown",
   "metadata": {
    "id": "wqY0LIB83rz_"
   },
   "source": [
    "### ✍️ Your assignments\n",
    "\n",
    "In these assignments, you will have to follow the instruction in the notebooks and fill in the missing code blocks according to the instructions. The cells containing the instructions will be marked with ✍️. The line of code which you will be expected to fill in will be surrounded by the two following comments:\n",
    "\n",
    "\n",
    "``` python\n",
    "## %%%%%%%%%%%%%%% Your code here - Begin %%%%%%%%%%%%%%%\n",
    "\n",
    "## %%%%%%%%%%%%%%% Your code here - End %%%%%%%%%%%%%%%%%\n",
    "```\n",
    "\n",
    "For example: fill in the following code block to assign the value $x+10$ to the variable $y$ (replace the ellipsis, \"...\", bellow with your code):"
   ]
  },
  {
   "cell_type": "code",
   "execution_count": 2,
   "metadata": {
    "id": "u5ka5haY3r0A"
   },
   "outputs": [
    {
     "name": "stdout",
     "output_type": "stream",
     "text": [
      "y is equal to: 13\n"
     ]
    }
   ],
   "source": [
    "x = 3\n",
    "## %%%%%%%%%%%%%%% Your code here - Begin %%%%%%%%%%%%%%%\n",
    "## assign x + 10 to y:\n",
    "y = x + 10\n",
    "## %%%%%%%%%%%%%%% Your code here - End %%%%%%%%%%%%%%%%%\n",
    "\n",
    "print('y is equal to:', y)"
   ]
  },
  {
   "cell_type": "markdown",
   "metadata": {
    "id": "7G_gwWzZ3r0A"
   },
   "source": [
    "### Running order\n",
    "\n",
    "The notebook engine lets you run the code cells in any order you prefer, but to make everything work as it was designed to, you need to make sure you run the code cell in the correct order (the order in which they appear in the notebook). If you want to start over and reset the Python's state (all code cells which were previously ran) press **Ctrl+M I** (**Ctrl+M** followed by **I**), or select **Restart runtime...** from the **Runtime** menu.\n",
    "\n",
    "Restart the runtime and rerun all 3 code cells above this line."
   ]
  },
  {
   "cell_type": "markdown",
   "metadata": {
    "id": "BW96f24P3r0A"
   },
   "source": [
    "### The last line in a code cell\n",
    "\n",
    "For convenience, if the last line of a code cell returns some value, it will be presented in cell's output bellow the code. For example, run the following cell:"
   ]
  },
  {
   "cell_type": "code",
   "execution_count": 3,
   "metadata": {
    "colab": {
     "base_uri": "https://localhost:8080/"
    },
    "id": "acXmIga73r0A",
    "outputId": "5d817311-0477-4727-9eb4-66aed55ac3c1"
   },
   "outputs": [
    {
     "name": "stdout",
     "output_type": "stream",
     "text": [
      "This is a ordinary print line\n"
     ]
    },
    {
     "data": {
      "text/plain": [
       "9.8596"
      ]
     },
     "execution_count": 3,
     "metadata": {},
     "output_type": "execute_result"
    }
   ],
   "source": [
    "## The output of this code cell would be y to the power of 2\n",
    "x = 3.14\n",
    "print('This is a ordinary print line')\n",
    "x ** 2  # The result of this line will appear in the output as well"
   ]
  },
  {
   "cell_type": "markdown",
   "metadata": {
    "id": "sAXMiCZQ3r0A"
   },
   "source": [
    "\n",
    "### A Comment About Python Versions\n",
    "\n",
    "3 major versions of Python have been released so far. The latest (and most popular) version today is Python 3. These notebooks use it by default so you don't have to worry about it.\n",
    "\n",
    "Do keep in mind, however, that there are still a lot of places which still use Python 2. When looking at on-line resources keep in mind that there are some minor syntax changes between the two versions.\n"
   ]
  },
  {
   "cell_type": "markdown",
   "metadata": {
    "id": "DbvlV81P3r0A"
   },
   "source": [
    "## Python Basics"
   ]
  },
  {
   "cell_type": "markdown",
   "metadata": {
    "id": "NM4gH3VH3r0B"
   },
   "source": [
    "### The *print()* function\n",
    "\n",
    "The *print()* function simply prints the value of it's argument. The function will transform any argument into a string.\n",
    "\n",
    "The function can receive multiple arguments. In this case the function will print the values of all of the arguments separated by a single space.\n",
    "\n",
    "(We will use here the special character \"\\n\" (new line) to insert and empty line between the outputs)"
   ]
  },
  {
   "cell_type": "code",
   "execution_count": 4,
   "metadata": {
    "id": "0GOStKly3r0B"
   },
   "outputs": [
    {
     "name": "stdout",
     "output_type": "stream",
     "text": [
      "1) This is a string\n",
      "\n",
      "2) \"Me first\" \"I will be second\" \"Why do I always have to be last?\"\n",
      "\n",
      "3) If we add the number 2 to the number 3 we will get 23 (or maybe not, I was never very good in calculus).\n",
      "\n",
      "4) This is a python list: [1, 1, 2, 3, 5, 8, 13] \n",
      "\n"
     ]
    }
   ],
   "source": [
    "## When given a string, well ... it will print that string:\n",
    "print('1) This is a string\\n')\n",
    "\n",
    "## When given multiple inputs it will print each one of then seperated by a single space.\n",
    "print('2)', '\"Me first\"', '\"I will be second\"', '\"Why do I always have to be last?\"\\n')\n",
    "\n",
    "## The print function can also recive number as input.\n",
    "print('3) If we add the number', 2, 'to the number', 3, 'we will get', 23, '(or maybe not, I was never very good in calculus).\\n')\n",
    "\n",
    "## In python any object can be converted into a string, and therefore printed.\n",
    "print('4) This is a python list:', [1, 1, 2, 3, 5, 8, 13], '\\n')"
   ]
  },
  {
   "cell_type": "markdown",
   "metadata": {
    "id": "csEJHhiI3r0B"
   },
   "source": [
    "✍️ Print the sentence 'The result of 83 x 29 is:' followed by the result. (Don't calculate the is yourself, write the equation as one of the print's arguments)"
   ]
  },
  {
   "cell_type": "code",
   "execution_count": 6,
   "metadata": {
    "id": "oycFMJKb3r0B"
   },
   "outputs": [
    {
     "name": "stdout",
     "output_type": "stream",
     "text": [
      "The result of 83 x 29 is: 2407\n"
     ]
    }
   ],
   "source": [
    "## %%%%%%%%%%%%%%% Your code here - Begin %%%%%%%%%%%%%%%\n",
    "## print 'The result of 83 x 29 is:' followed by the result.\n",
    "print('The result of 83 x 29 is:', 83 * 29)\n",
    "## %%%%%%%%%%%%%%% Your code here - End %%%%%%%%%%%%%%%%%"
   ]
  },
  {
   "cell_type": "markdown",
   "metadata": {
    "id": "077UqUyh3r0B"
   },
   "source": [
    "\n",
    "### Comments\n",
    "\n",
    "Comments are created using the hash ('#') symbol. Anything after the # symbol will be ignored.\n",
    "\n",
    "In our course, for clarity, we will use a double hash ('##') for comments containing instructions or documentations (as oppose to lines of code which where commented out)"
   ]
  },
  {
   "cell_type": "code",
   "execution_count": 7,
   "metadata": {
    "id": "a9PMPHzs3r0B"
   },
   "outputs": [
    {
     "name": "stdout",
     "output_type": "stream",
     "text": [
      "Always look on the bright side of life...\n"
     ]
    }
   ],
   "source": [
    "# This is a comment\n",
    "## But in our course we will use this form for documentation.\n",
    "print('Always look on the bright side of life...') # Comments can be added at the end of the line"
   ]
  },
  {
   "cell_type": "markdown",
   "metadata": {
    "id": "6O8qmQlD3r0B"
   },
   "source": [
    "### Variables\n",
    "\n",
    "Python is a dynamically typed language (like Javascript, Matlab and others). This means that any variable can be assigned with any type of value. Some of the build in types in Python are:\n",
    "- int: Integer\n",
    "- float: floating point\n",
    "- bool: Boolean (True/False)\n",
    "- str: string\n",
    "\n",
    "(For the more advance readers: Python is in fact an object oriented language, which means that **everything** in Python is a object. A variable is simply a reference to a object)"
   ]
  },
  {
   "cell_type": "code",
   "execution_count": 8,
   "metadata": {
    "id": "U0ilWWrG3r0C"
   },
   "outputs": [
    {
     "name": "stdout",
     "output_type": "stream",
     "text": [
      "1) var1 =  5\n",
      "The type of the variable \"var1\" is: <class 'int'> \n",
      "\n",
      "2) var2 =  17.5\n",
      "The type of the variable \"var2\" is: <class 'float'> \n",
      "\n",
      "3) var3 =  (19.5+4j)\n",
      "The type of the variable \"var3\" is: <class 'complex'> \n",
      "\n",
      "4) var4 =  False\n",
      "The type of the variable \"var4\" is: <class 'bool'> \n",
      "\n",
      "5) var5 =  supercalifragilisticexpialidocious\n",
      "The type of the variable \"var5\" is: <class 'str'> \n",
      "\n",
      "6) var6 =  None\n",
      "The type of the variable \"var6\" is: <class 'NoneType'> \n",
      "\n"
     ]
    }
   ],
   "source": [
    "var1 = 5\n",
    "print(\"1) var1 = \", var1)\n",
    "print('The type of the variable \"var1\" is:', type(var1), '\\n')\n",
    "\n",
    "var2 = var1 * 3.5\n",
    "print(\"2) var2 = \", var2)\n",
    "print('The type of the variable \"var2\" is:', type(var2), '\\n')\n",
    "\n",
    "var3 = var2 + 2 +4j\n",
    "print(\"3) var3 = \", var3)\n",
    "print('The type of the variable \"var3\" is:', type(var3), '\\n')\n",
    "\n",
    "var4 = False\n",
    "print(\"4) var4 = \", var4)\n",
    "print('The type of the variable \"var4\" is:', type(var4), '\\n')\n",
    "\n",
    "var5 = 'supercalifragilisticexpialidocious'\n",
    "print(\"5) var5 = \", var5)\n",
    "print('The type of the variable \"var5\" is:', type(var5), '\\n')\n",
    "\n",
    "var6 = None  ## This is a special type which can be use to indicate none\n",
    "print(\"6) var6 = \", var6)\n",
    "print('The type of the variable \"var6\" is:', type(var6), '\\n')"
   ]
  },
  {
   "cell_type": "markdown",
   "metadata": {
    "id": "Eiwse9bN3r0C"
   },
   "source": [
    "✍️ Calculate the square root of 2 and store in the variable \"irrational_var\" and then print it. Use ** as the power operator (equivalent to ^ in Matlab)"
   ]
  },
  {
   "cell_type": "code",
   "execution_count": 11,
   "metadata": {
    "id": "N4QKWxI33r0C"
   },
   "outputs": [
    {
     "name": "stdout",
     "output_type": "stream",
     "text": [
      "The square root of 2 is: 1.4142135623730951\n"
     ]
    }
   ],
   "source": [
    "## %%%%%%%%%%%%%%% Your code here - Begin %%%%%%%%%%%%%%%\n",
    "import math\n",
    "irrational_var = math.sqrt(2)\n",
    "## %%%%%%%%%%%%%%% Your code here - End %%%%%%%%%%%%%%%%%\n",
    "print('The square root of 2 is:', irrational_var)"
   ]
  },
  {
   "cell_type": "markdown",
   "metadata": {
    "id": "rwVITxew3r0C"
   },
   "source": [
    "✍️\n",
    "- Define a boolean variable named *not_false* and assign the value *True* to it. (note that Python is case sensitive)\n",
    "- Add the value complex value of *2+1j* to it and save it to the variable *var7*\n",
    "- Print the type of *var7*"
   ]
  },
  {
   "cell_type": "code",
   "execution_count": 14,
   "metadata": {
    "id": "LPfi-3d33r0C"
   },
   "outputs": [
    {
     "name": "stdout",
     "output_type": "stream",
     "text": [
      "7) var7 =  (3+1j)\n",
      "The type of the variable \"var7\" is: <class 'complex'>\n"
     ]
    }
   ],
   "source": [
    "## %%%%%%%%%%%%%%% Your code here - Begin %%%%%%%%%%%%%%%\n",
    "not_false = True\n",
    "var7 = 2 + 1j + not_false\n",
    "print(\"7) var7 = \", var7)\n",
    "print('The type of the variable \"var7\" is:', type(var7))\n",
    "## %%%%%%%%%%%%%%% Your code here - End %%%%%%%%%%%%%%%%%"
   ]
  },
  {
   "cell_type": "markdown",
   "metadata": {
    "id": "CQGAVG_o3r0C"
   },
   "source": [
    "### List and Tuples\n",
    "\n",
    "*Lists* and *tuples* are sequences of variables. The difference between the two is that after defining a tuple it's values can not be changed.\n",
    "\n",
    "List are defined using squared brackets \"[,]\" and tuples are defined using regular brackets \"(,)\"\n",
    "\n"
   ]
  },
  {
   "cell_type": "code",
   "execution_count": 13,
   "metadata": {
    "id": "v1X0ltrW3r0D"
   },
   "outputs": [
    {
     "name": "stdout",
     "output_type": "stream",
     "text": [
      "The type of the variable \"tens\" is: <class 'list'>\n",
      "The type of the variable \"hundreds\" is: <class 'tuple'>\n"
     ]
    }
   ],
   "source": [
    "tens = [0, 10, 20, 30, 40, 50, 60, 70, 80, 90, 100]\n",
    "hundreds = (0, 100, 200, 300, 400, 500, 600, 700, 800, 900, 1000)\n",
    "\n",
    "print('The type of the variable \"tens\" is:', type(tens))\n",
    "print('The type of the variable \"hundreds\" is:', type(hundreds))"
   ]
  },
  {
   "cell_type": "markdown",
   "metadata": {
    "id": "WR1vXzT63r0D"
   },
   "source": [
    "List and tuples can contain mixed types of variable\n",
    "\n",
    "(Note: compared to Matlab, list are similar to cells. Matlab's arrays are similar to NumPy arrays in Python, which we will discuss below)"
   ]
  },
  {
   "cell_type": "code",
   "execution_count": 15,
   "metadata": {
    "id": "0iZ6CTKr3r0D"
   },
   "outputs": [],
   "source": [
    "mixed_list = ['pi', 3.14, 3, True, ['Another', 'list', 'inside', 'a', 'list']]"
   ]
  },
  {
   "cell_type": "markdown",
   "metadata": {
    "id": "mR31rrRf3r0D"
   },
   "source": [
    "### Function for Sequences\n",
    "\n",
    "Python defines the following build in function for working with sequences. For example:"
   ]
  },
  {
   "cell_type": "code",
   "execution_count": 16,
   "metadata": {
    "id": "lwzn3Sq33r0D"
   },
   "outputs": [
    {
     "name": "stdout",
     "output_type": "stream",
     "text": [
      "The length of tens is:  11 \n",
      "\n",
      "The sorted version of (3, 1, 4, 1, 5) is:  [1, 1, 3, 4, 5] \n",
      "\n"
     ]
    }
   ],
   "source": [
    "## The \"len\" function returns the length of a sequences\n",
    "print('The length of tens is: ', len(tens), '\\n')\n",
    "\n",
    "## The \"sorted\" function returns a sorted version a sequences\n",
    "print('The sorted version of (3, 1, 4, 1, 5) is: ', sorted((3, 1, 4, 1, 5)), '\\n')"
   ]
  },
  {
   "cell_type": "markdown",
   "metadata": {
    "id": "uX-XQ4TM3r0D"
   },
   "source": [
    "### Indexing Lists, Tuples and Strings\n",
    "\n",
    "Indexing (extracting values from a sequence by index) in done using square brackets.\n",
    "Indexing in Python can be done in a few ways:\n",
    "\n",
    "(**For Matlab users**: Python's indexing starts from 0 and not 1!! (like any other programing language (a part from Matlab))"
   ]
  },
  {
   "cell_type": "code",
   "execution_count": 17,
   "metadata": {
    "id": "hQEDt_oL3r0D"
   },
   "outputs": [
    {
     "name": "stdout",
     "output_type": "stream",
     "text": [
      "1) tens[5]= 50 \n",
      "\n",
      "2) tens[-2]= 90 \n",
      "\n",
      "3) tens[0:4]= [0, 10, 20, 30] . ! Note that 40 does not apper here\n",
      "\n",
      "4) tens[1:-3:2]= [10, 30, 50, 70] \n",
      "\n",
      "5) tens[:5]= [0, 10, 20, 30, 40] \n",
      "\n",
      "6) tens[2:]= [20, 30, 40, 50, 60, 70, 80, 90, 100] \n",
      "\n",
      "7) tens[::2]= [0, 20, 40, 60, 80, 100] \n",
      "\n",
      "8) tens[7:2:-1]= [70, 60, 50, 40, 30] \n",
      "\n"
     ]
    }
   ],
   "source": [
    "## Extract a single value at index: my_list[index]\n",
    "print('1) tens[5]=', tens[5], '\\n')\n",
    "\n",
    "## Negative indecies count from the end of the list / tuple: my_list[-index] = my_list[len(my_list) - index]\n",
    "print('2) tens[-2]=', tens[-2], '\\n')\n",
    "\n",
    "## A range of a values can be extracted using: my_list[begin:end].\n",
    "## !!! Important: this returns the values between begin and end not including end !!!\n",
    "print('3) tens[0:4]=', tens[0:4], '. ! Note that 40 does not apper here\\n')\n",
    "\n",
    "## A range can also be extracted with a given step using:  my_list[begin:end:step].\n",
    "print('4) tens[1:-3:2]=', tens[1:-3:2], '\\n')\n",
    "\n",
    "## If one of the values in the begin:end or in begin:end:step is omitted then the defualt values are used.\n",
    "## Default: begin = 0\n",
    "## Default: end = -1\n",
    "## Default: step = 1\n",
    "\n",
    "## A range starting from 0:\n",
    "print('5) tens[:5]=', tens[:5], '\\n')\n",
    "\n",
    "## A range ending at -1 (last item - including)\n",
    "print('6) tens[2:]=', tens[2:], '\\n')\n",
    "\n",
    "## All items in the list with a step site of 2\n",
    "print('7) tens[::2]=', tens[::2], '\\n')\n",
    "\n",
    "## Negtive steps can be used as well. The values starting at 7 down to 2, not including 2:\n",
    "print('8) tens[7:2:-1]=', tens[7:2:-1], '\\n')"
   ]
  },
  {
   "cell_type": "markdown",
   "metadata": {
    "id": "3u9_3PaM3r0D"
   },
   "source": [
    "✍️ Use the \"sorted\" function and indexing to sort the letters in your name and to print the first 5 letters of the sorted name."
   ]
  },
  {
   "cell_type": "code",
   "execution_count": 20,
   "metadata": {
    "id": "fYB11xYA3r0D"
   },
   "outputs": [
    {
     "name": "stdout",
     "output_type": "stream",
     "text": [
      "The first 5 letters in my sorted name are: ['a', 'a', 'a', 'a', 'h']\n"
     ]
    }
   ],
   "source": [
    "## %%%%%%%%%%%%%%% Your code here - Begin %%%%%%%%%%%%%%%\n",
    "my_full_name = 'anishapatrikar'\n",
    "my_sorted_name = sorted(my_full_name)\n",
    "print(f'The first 5 letters in my sorted name are:', my_sorted_name[:5])\n",
    "## %%%%%%%%%%%%%%% Your code here - End %%%%%%%%%%%%%%%%%"
   ]
  },
  {
   "cell_type": "markdown",
   "metadata": {
    "id": "Bkovklcy3r0I"
   },
   "source": [
    "As stated above, lists can be updated:"
   ]
  },
  {
   "cell_type": "code",
   "execution_count": 21,
   "metadata": {
    "id": "wsXmFIUb3r0I"
   },
   "outputs": [
    {
     "name": "stdout",
     "output_type": "stream",
     "text": [
      "[0, 10, 'Twenty', 30, 40, 50, 60, 70, 80, 90, 100]\n"
     ]
    }
   ],
   "source": [
    "tens[2] = 'Twenty'\n",
    "print(tens)"
   ]
  },
  {
   "cell_type": "markdown",
   "metadata": {
    "id": "K-LWkeEX3r0I"
   },
   "source": [
    "New values can also be appended to the end of the list:"
   ]
  },
  {
   "cell_type": "code",
   "execution_count": 22,
   "metadata": {
    "id": "_xi18LnW3r0I"
   },
   "outputs": [
    {
     "name": "stdout",
     "output_type": "stream",
     "text": [
      "[0, 10, 'Twenty', 30, 40, 50, 60, 70, 80, 90, 100, 110]\n"
     ]
    }
   ],
   "source": [
    "tens.append(110)\n",
    "print(tens)"
   ]
  },
  {
   "cell_type": "markdown",
   "metadata": {
    "id": "y2vXxu7g3r0I"
   },
   "source": [
    "Lists and tuples can also be concatenated using the \"+\" operator:"
   ]
  },
  {
   "cell_type": "code",
   "execution_count": 23,
   "metadata": {
    "id": "DR1nV9rT3r0I"
   },
   "outputs": [
    {
     "name": "stdout",
     "output_type": "stream",
     "text": [
      "('a', 'b', 'c') + ('e', 'f', 'g')= ('a', 'b', 'c', 'e', 'f', 'g')\n"
     ]
    }
   ],
   "source": [
    "print(\"('a', 'b', 'c') + ('e', 'f', 'g')=\",  ('a', 'b', 'c') + ('e', 'f', 'g'))"
   ]
  },
  {
   "cell_type": "markdown",
   "metadata": {
    "id": "DMYWzDP33r0I"
   },
   "source": [
    "✍️ Complete the following missing indexing:"
   ]
  },
  {
   "cell_type": "code",
   "execution_count": 27,
   "metadata": {
    "id": "wCTFddGm3r0I"
   },
   "outputs": [
    {
     "name": "stdout",
     "output_type": "stream",
     "text": [
      "First super hero in the Marvel list:  Iron Man\n",
      "Last super hero in the DC list:  Wonder Woman\n",
      "The marval list with Spider Man as the second item: ['Iron Man', 'Spider Man', 'Thor']\n",
      "The marval list Hulk and Deadpool added at the end: ['Iron Man', 'Spider Man', 'Thor', 'Hulk', 'Deadpool']\n"
     ]
    }
   ],
   "source": [
    "marvel_super_heros = ['Iron Man', 'Captain America', 'Thor']  # This is a list\n",
    "dc_super_heros = ('Superman', 'Batman', 'Wonder Woman')  # This is a tuple\n",
    "\n",
    "## %%%%%%%%%%%%%%% Your code here - Begin %%%%%%%%%%%%%%%\n",
    "print('First super hero in the Marvel list: ', marvel_super_heros[0])\n",
    "print('Last super hero in the DC list: ', dc_super_heros[2])\n",
    "\n",
    "## Set the second Marvel super hero to Spider Man:\n",
    "marvel_super_heros[1] = 'Spider Man'\n",
    "print('The marval list with Spider Man as the second item:', marvel_super_heros)\n",
    "\n",
    "## Now add Hulk and Deadpool to the Marvel list\n",
    "## You can either use append or the \"+\" operator\n",
    "marvel_super_heros.append('Hulk') \n",
    "marvel_super_heros.append('Deadpool') \n",
    "print('The marval list Hulk and Deadpool added at the end:', marvel_super_heros)\n",
    "## %%%%%%%%%%%%%%% Your code here - End %%%%%%%%%%%%%%%%%"
   ]
  },
  {
   "cell_type": "markdown",
   "metadata": {
    "id": "yWkNKx1s3r0J"
   },
   "source": [
    "### Strings\n",
    "\n",
    "Strings in python can be define using by either a single quote ' or double quote \". They are both equivalent and you can choose either one of them. Double quote can be used to define string which contain a single quote and vise versa. In our course we will mostly be using a single quote to define strings.\n",
    "\n",
    "Python offers a large variety of built-in functions for handling strings we will demonstrate just a few of them:\n",
    "\n",
    "(for a complete list check the [official documentation](https://docs.python.org/3.9/library/string.html))"
   ]
  },
  {
   "cell_type": "code",
   "execution_count": 28,
   "metadata": {
    "id": "yvQ7Afh93r0J"
   },
   "outputs": [
    {
     "name": "stdout",
     "output_type": "stream",
     "text": [
      "1) begining+end \n",
      "\n",
      "2) The \\n special charecter insters a new line:\n",
      "This will be in a new line.\n",
      "\n",
      "3) The \\t special charecter insters a new tab:\tI am tabbed, woo hoo!\n",
      "\n",
      "4) The \\' special charecter insters a '.\n",
      "\n",
      "5) The type of the variable \"converted_num\" is: <class 'str'> \n",
      "\n",
      "6) The string \"cd\" appears in the string \"abcdefg\" at postion:  2 \n",
      "\n",
      "7) 'dog,cat,t-rex'.split(',')= ['dog', 'cat', 't-rex'] \n",
      "\n",
      "8) 'abcdefg'[::2]= aceg \n",
      "\n",
      "9) עברית קשה שפה\n",
      "\n",
      "10)🦏 💕 🐴 => 🦄\n",
      "\n"
     ]
    }
   ],
   "source": [
    "## Strings can be concatinated using the \"+\" operator\n",
    "print('1) begining' + '+' + 'end', '\\n')\n",
    "\n",
    "## Special charecters begin with a \"\\\". We have alrady used the \\n special charecter to insters new lines\n",
    "## To insert the \"\\\" charecter to a string use \"\\\\\"\n",
    "print('2) The \\\\n special charecter insters a new line:\\nThis will be in a new line.\\n')\n",
    "## \\t - inserts a tab:\n",
    "print('3) The \\\\t special charecter insters a new tab:\\tI am tabbed, woo hoo!\\n')\n",
    "## \\' and \\\" can be used to inster ' or \":\n",
    "print('4) The \\\\\\' special charecter insters a \\'.\\n')\n",
    "\n",
    "## The str function transforms a object into a string\n",
    "converted_num = str(3.14)\n",
    "print('5) The type of the variable \"converted_num\" is:', type(converted_num), '\\n')\n",
    "\n",
    "## The string object has many method that can be used.\n",
    "## For example, the \"find\" method finds the first occurance of a given string in the original string:\n",
    "print('6) The string \"cd\" appears in the string \"abcdefg\" at postion: ', 'abcdefg'.find('cd'), '\\n')\n",
    "\n",
    "## The \"split\" method splits a string to a list of string according to a given delimiter:\n",
    "print(\"7) 'dog,cat,t-rex'.split(',')=\", 'dog,cat,t-rex'.split(','), '\\n')\n",
    "\n",
    "## Strings can be index in a way similar to lists and tuples\n",
    "print(\"8) 'abcdefg'[::2]=\", 'abcdefg'[::2], '\\n')\n",
    "\n",
    "## Python strings use Unicode encoding, which means that they can contain chercters in any language\n",
    "print('9) עברית קשה שפה\\n' )\n",
    "\n",
    "## and even emojis\n",
    "print('10)🦏 💕 🐴 => 🦄\\n')"
   ]
  },
  {
   "cell_type": "markdown",
   "metadata": {
    "id": "9TEWauRH3r0J"
   },
   "source": [
    "### Formating strings\n",
    "\n",
    "Python expressions can be incorporated directly into strings using f-strings. f-strings are regular string, except for the fact that curly brackets can be used to evaluate expressions inside a string.\n",
    "\n",
    "f-strings are define by adding an \"f\" before the quote mark:"
   ]
  },
  {
   "cell_type": "code",
   "execution_count": 29,
   "metadata": {
    "id": "RmOnnF5b3r0J"
   },
   "outputs": [
    {
     "name": "stdout",
     "output_type": "stream",
     "text": [
      "1) the result of 3+5 is 8\n",
      "\n",
      "2) Hi Bob\n"
     ]
    }
   ],
   "source": [
    "print(f'1) the result of 3+5 is {3 + 5}\\n')\n",
    "\n",
    "## The epression inside the curly barckes can also contain variables:\n",
    "name = 'Bob'\n",
    "print(f'2) Hi {name}')"
   ]
  },
  {
   "cell_type": "markdown",
   "metadata": {
    "id": "jCdPXHCC3r0J"
   },
   "source": [
    "f-strings can also be used to format the way numbers are printed by using the colons  \":\" :\n",
    "\n",
    "(see [the official documentation](https://docs.python.org/3.8/library/string.html#format-specification-mini-language) for a complete list of formating options)"
   ]
  },
  {
   "cell_type": "code",
   "execution_count": null,
   "metadata": {
    "colab": {
     "base_uri": "https://localhost:8080/"
    },
    "id": "uXzInD7k3r0J",
    "outputId": "5e6d447c-9378-485c-f820-b894d804f093"
   },
   "outputs": [
    {
     "name": "stdout",
     "output_type": "stream",
     "text": [
      "1) Pi with only 4 significant digits: 3.142\n",
      "\n",
      "2) Pi with 10 significant digits: 3.141592654\n",
      "\n",
      "3) Pi with zero padding in front so that it will contain 9 charecters: 000003.14\n",
      "\n",
      "4) Pi using an exponant notation: 3.142e+00\n",
      "\n"
     ]
    }
   ],
   "source": [
    "pi = 3.14159265359\n",
    "## The number of digits after the decimal point can be define is the following way\n",
    "print(f'1) Pi with only 4 significant digits: {pi:.4}\\n')\n",
    "print(f'2) Pi with 10 significant digits: {pi:.10}\\n')\n",
    "print(f'3) Pi with zero padding in front so that it will contain 9 charecters: {pi:09.3}\\n')\n",
    "print(f'4) Pi using an exponant notation: {pi:.3e}\\n')"
   ]
  },
  {
   "cell_type": "markdown",
   "metadata": {
    "id": "yM4c6pcI3r0J"
   },
   "source": [
    "Note: f-strings where only introduced in version 3.6. There are also two \"older\" ways to use formated strings in Python, you can read more about them [here](https://realpython.com/python-f-strings/)."
   ]
  },
  {
   "cell_type": "markdown",
   "metadata": {
    "id": "wfRX2S6u3r0K"
   },
   "source": [
    "### Dictionaries\n",
    "\n",
    "Dictionaries store pairs of key and values. The keys can used as indices to retrieve the stored values. Any type of object can be used as a key (and any object can be stored as a value). Dictionaries are defined using curly brackets:\n",
    "\n",
    "``` python\n",
    "my_dict = {'key1': 'value1', 'key2': 'value2'}\n",
    "```\n",
    "\n",
    "example:\n"
   ]
  },
  {
   "cell_type": "code",
   "execution_count": 30,
   "metadata": {
    "id": "RCYOhxZq3r0K"
   },
   "outputs": [
    {
     "name": "stdout",
     "output_type": "stream",
     "text": [
      "The rulers of The North are: Stark\n",
      "\n",
      "The list of kindoms is : dict_keys(['The North', 'The Rock', 'Dorne', 'The Riverlands', 'Iron Islands', 'The Stormlands', 'The Vale', 'The Reach', 'The Crownlands'])\n",
      "\n",
      "The list of kindoms is : dict_values(['Stark', 'Lannister', 'Martell', 'Tullys', 'Greyjoys', 'Baratheons', 'Arryn', 'Tyrells', 'Targaryens'])\n",
      "\n",
      "The kindom of The Reach has been given to: Bronn\n",
      "\n"
     ]
    }
   ],
   "source": [
    "game_of_throne_kingdom_rulers = {\n",
    "    'The North': 'Stark',\n",
    "    'The Rock': 'Lannister',\n",
    "    'Dorne': 'Martell',\n",
    "    'The Riverlands': 'Tullys',\n",
    "    'Iron Islands': 'Greyjoys',\n",
    "    'The Stormlands': 'Baratheons',\n",
    "    'The Vale': 'Arryn',\n",
    "    'The Reach': 'Tyrells',\n",
    "    'The Crownlands': 'Targaryens',\n",
    "}\n",
    "\n",
    "print(f\"The rulers of The North are: {game_of_throne_kingdom_rulers['The North']}\\n\")\n",
    "\n",
    "## the list of keys can be retrived using \".keys()\":\n",
    "print(f\"The list of kindoms is : {game_of_throne_kingdom_rulers.keys()}\\n\")\n",
    "\n",
    "## the list of values can be retrived using \".values()\":\n",
    "print(f\"The list of kindoms is : {game_of_throne_kingdom_rulers.values()}\\n\")\n",
    "\n",
    "## Updating a value\n",
    "game_of_throne_kingdom_rulers['The Reach'] = 'Bronn'\n",
    "print(f\"The kindom of The Reach has been given to: {game_of_throne_kingdom_rulers['The Reach']}\\n\")"
   ]
  },
  {
   "cell_type": "markdown",
   "metadata": {
    "id": "WuGL13Ah3r0K"
   },
   "source": [
    "### Conditions\n",
    "\n",
    "Conditions in Python are written in the following way:\n",
    "``` python\n",
    "if some_condition:\n",
    "    do_1\n",
    "    do_2\n",
    "elif some_other_condition\n",
    "    do_3\n",
    "else:\n",
    "    do_4\n",
    "```\n",
    "\n",
    "The \"elif\" and the \"else\" sections are optional.\n",
    "\n",
    "**Note the indentations!!!**\n",
    "\n",
    "Note that the do statements are indented (shifted to the right by leading spaces) relative to the if statement. **In Python indentations are very important** and define where the inner section of the if begins and ends.\n",
    "\n",
    "#### Comparison operators\n",
    "\n",
    "| Operator | Description |\n",
    "| --- | --- |\n",
    "| a == b | a is equal to b |\n",
    "| a != b | a is not equality to b |\n",
    "| a > b | a is larger then b |\n",
    "| a >= b | a is larger equal to  b |\n",
    "| a < b | a smaller then b |\n",
    "| a <= b | a is smaller or equal to b |\n",
    "\n",
    "#### Binary operators\n",
    "\n",
    "| Description | Operator |\n",
    "| --- | --- |\n",
    "| not | not condition1 |\n",
    "| and | condition1 and consition2 |\n",
    "| or | condition1 or consition2 |\n"
   ]
  },
  {
   "cell_type": "code",
   "execution_count": 31,
   "metadata": {
    "id": "RmTnoAda3r0K"
   },
   "outputs": [
    {
     "name": "stdout",
     "output_type": "stream",
     "text": [
      "5 is smaller then 6\n"
     ]
    }
   ],
   "source": [
    "a = 5\n",
    "b = 6\n",
    "if a > b:\n",
    "    print(f'{a} is larger then {b}')\n",
    "elif a == b:\n",
    "    print(f'{a} is equal to {b}')\n",
    "else:\n",
    "    print(f'{a} is smaller then {b}')"
   ]
  },
  {
   "cell_type": "markdown",
   "metadata": {
    "id": "Yr-mW8xS3r0K"
   },
   "source": [
    "### The \"in\" condition\n",
    "\n",
    "The \"in\" operator can be used to check is a value is a member of a sequence such as a list or a string. For example:\n",
    "\n",
    "\n"
   ]
  },
  {
   "cell_type": "code",
   "execution_count": 32,
   "metadata": {
    "colab": {
     "base_uri": "https://localhost:8080/"
    },
    "id": "uqEXq8UP3r0K",
    "outputId": "e5e32241-017b-40d3-bb18-b9743a34d7ff"
   },
   "outputs": [
    {
     "name": "stdout",
     "output_type": "stream",
     "text": [
      "🍅 is a fruit, that is offten mistaken as a vetgtable.\n"
     ]
    }
   ],
   "source": [
    "fruits = '🍎🍐🍊'  # This is a string\n",
    "vegtables = ['🥬', '🥕', '🥔']  # This is a list of strings\n",
    "fruits_that_impose_as_vegtables = ('🍅', '🥑', '🥒')  # This is a tuple of strings\n",
    "\n",
    "food = '🍅'\n",
    "if food in fruits:\n",
    "    print(f'{food} is a fruit.')\n",
    "elif food in vegtables:\n",
    "    print(f'{food} is a vetgtable.')\n",
    "elif food in fruits_that_impose_as_vegtables:\n",
    "    print(f'{food} is a fruit, that is offten mistaken as a vetgtable.')\n",
    "else:\n",
    "    print(f'I have no idea what {food} is ¯\\_(ツ)_/¯')"
   ]
  },
  {
   "cell_type": "markdown",
   "metadata": {
    "id": "aPnvh-G83r0K"
   },
   "source": [
    "✍️ Complete the condition bellow to check if \"food\" is in any of the above lists. (use \"or\")"
   ]
  },
  {
   "cell_type": "code",
   "execution_count": 34,
   "metadata": {
    "id": "a-sNz9L73r0K"
   },
   "outputs": [
    {
     "name": "stdout",
     "output_type": "stream",
     "text": [
      "🍕 is neither a fruit nor a vegtable. Maybe you shouldn't eat it\n"
     ]
    }
   ],
   "source": [
    "food = '🍕'\n",
    "## %%%%%%%%%%%%%%% Your code here - Begin %%%%%%%%%%%%%%%\n",
    "if food in fruits or food in vegtables:\n",
    "    print(f'{food} is a fruit or a vegtable.')\n",
    "else:\n",
    "    print(f'{food} is neither a fruit nor a vegtable. Maybe you shouldn\\'t eat it')\n",
    "## %%%%%%%%%%%%%%% Your code here - End %%%%%%%%%%%%%%%%%"
   ]
  },
  {
   "cell_type": "markdown",
   "metadata": {
    "id": "AQ1KAah43r0L"
   },
   "source": [
    "### While Loop\n",
    "\n",
    "While loops are written in Python in the following way:\n",
    "\n",
    "``` python\n",
    "while condition:\n",
    "    do_1\n",
    "    do_2\n",
    "```\n",
    "\n",
    "Here as well, the indentation defines are the loop begin and end."
   ]
  },
  {
   "cell_type": "code",
   "execution_count": 35,
   "metadata": {
    "id": "nKpCWb6k3r0L"
   },
   "outputs": [
    {
     "name": "stdout",
     "output_type": "stream",
     "text": [
      "1\n",
      "1\n",
      "2\n",
      "3\n",
      "5\n",
      "8\n",
      "13\n",
      "21\n",
      "34\n",
      "55\n",
      "89\n",
      "144\n"
     ]
    }
   ],
   "source": [
    "## This code prints the Fibonacci serise up to the first number larger then 100\n",
    "last = 1\n",
    "current = 1\n",
    "\n",
    "print(last)\n",
    "print(current)\n",
    "while current < 100:\n",
    "    next = last + current\n",
    "    last = current\n",
    "    current = next\n",
    "    print(current)"
   ]
  },
  {
   "cell_type": "markdown",
   "metadata": {
    "id": "EEr8Oyr73r0L"
   },
   "source": [
    "### For Loop\n",
    "\n",
    "In Python, for loops run over a sequences (or more precisely, over an [iterator](https://jakevdp.github.io/WhirlwindTourOfPython/10-iterators.html)). For loops are written in the following way:\n",
    "\n",
    "``` python\n",
    "for value in sequence:\n",
    "    do_something_with_value\n",
    "```\n",
    "\n",
    "Example:"
   ]
  },
  {
   "cell_type": "code",
   "execution_count": 36,
   "metadata": {
    "id": "Rg4MBkOU3r0L"
   },
   "outputs": [
    {
     "name": "stdout",
     "output_type": "stream",
     "text": [
      "I like 🍎\n",
      "I like 🍐\n",
      "I like 🍊\n"
     ]
    }
   ],
   "source": [
    "for food in fruits:\n",
    "    print(f'I like {food}')"
   ]
  },
  {
   "cell_type": "markdown",
   "metadata": {
    "id": "4SNIvmiU3r0L"
   },
   "source": [
    "In order to run over a range of numbers the \"range\" function can be used in one of the following manners:\n",
    "\n",
    "``` python\n",
    "range(end)\n",
    "range(begin, end)\n",
    "range(begin, end, step)\n",
    "```"
   ]
  },
  {
   "cell_type": "code",
   "execution_count": 37,
   "metadata": {
    "id": "x3__k2593r0L"
   },
   "outputs": [
    {
     "name": "stdout",
     "output_type": "stream",
     "text": [
      "1) running over range(5):\n",
      "\t 0\n",
      "\t 1\n",
      "\t 2\n",
      "\t 3\n",
      "\t 4\n",
      "2) running over range(3, 7):\n",
      "\t 3\n",
      "\t 4\n",
      "\t 5\n",
      "\t 6\n",
      "3) running over range(1, 6, 2):\n",
      "\t 1\n",
      "\t 3\n",
      "\t 5\n"
     ]
    }
   ],
   "source": [
    "print('1) running over range(5):')\n",
    "for num in range(5):\n",
    "    print('\\t', num)\n",
    "\n",
    "print('2) running over range(3, 7):')\n",
    "for num in range(3, 7):\n",
    "    print('\\t', num)\n",
    "\n",
    "print('3) running over range(1, 6, 2):')\n",
    "for num in range(1, 6, 2):\n",
    "    print('\\t', num)"
   ]
  },
  {
   "cell_type": "markdown",
   "metadata": {
    "id": "u24tee6w3r0L"
   },
   "source": [
    "✍️ Complete the code bellow to print the letters in the 3rd, 5th and 6th position in your full name."
   ]
  },
  {
   "cell_type": "code",
   "execution_count": 40,
   "metadata": {
    "id": "y9Rmz1dr3r0L"
   },
   "outputs": [
    {
     "name": "stdout",
     "output_type": "stream",
     "text": [
      "The leter in the 3 position is s\n",
      "The leter in the 5 position is a\n",
      "The leter in the 6 position is p\n"
     ]
    }
   ],
   "source": [
    "## %%%%%%%%%%%%%%% Your code here - Begin %%%%%%%%%%%%%%%\n",
    "letters_indices_to_print = (3, 5, 6)\n",
    "for index in letters_indices_to_print:\n",
    "    print(f'The leter in the {index} position is', my_full_name[index])\n",
    "## %%%%%%%%%%%%%%% Your code here - End %%%%%%%%%%%%%%%%%"
   ]
  },
  {
   "cell_type": "markdown",
   "metadata": {
    "id": "pmUZwqRu3r0M"
   },
   "source": [
    "### Functions\n",
    "\n",
    "Functions in python are defined using the \"def\" command:\n",
    "\n",
    "``` python\n",
    "def my_function(argument1, argument2):\n",
    "    do_something_with_the_arguments\n",
    "    return result\n",
    "```\n",
    "\n",
    "The return statement is optional and can be omitted. In such cases the function will return the \"None\" object.\n",
    "\n",
    "For example:"
   ]
  },
  {
   "cell_type": "code",
   "execution_count": 41,
   "metadata": {
    "id": "X4BtBLHj3r0M"
   },
   "outputs": [
    {
     "name": "stdout",
     "output_type": "stream",
     "text": [
      "calculating x to the power of y\n",
      "2 to the power of 8 is: 256\n"
     ]
    }
   ],
   "source": [
    "def power(x, y):\n",
    "    print('calculating x to the power of y')\n",
    "    return x ** y\n",
    "\n",
    "print(f'2 to the power of 8 is: {power(2, 8)}')"
   ]
  },
  {
   "cell_type": "markdown",
   "metadata": {
    "id": "yA1vSUE93r0M"
   },
   "source": [
    "A function can have multiple return result separated by a comma\n",
    "\n",
    "``` python\n",
    "def my_function(argument1, argument2):\n",
    "    do_something_with_the_arguments\n",
    "    return result1, result2\n",
    "```\n",
    "\n",
    "This function in fact returns the Tuple (result1, results2)\n",
    "\n",
    "For example, the function bellow returns the two roots of a second order polynomial:\n",
    "\n",
    "$$\n",
    "x_{1,2}=\\frac{-b\\pm\\sqrt{b^2-4ac}}{2a}\n",
    "$$\n"
   ]
  },
  {
   "cell_type": "code",
   "execution_count": 42,
   "metadata": {
    "id": "xaqINAMt3r0M"
   },
   "outputs": [
    {
     "name": "stdout",
     "output_type": "stream",
     "text": [
      "The first root is 4.0 and the second root is 3.0\n",
      "The first root is 4.0 and the second root is 3.0\n"
     ]
    }
   ],
   "source": [
    "def find_roots(a, b, c):\n",
    "    x1 = (-b + (b ** 2 - 4 * a * c) ** 0.5) / 2 / a\n",
    "    x2 = (-b - (b ** 2 - 4 * a * c) ** 0.5) / 2 / a\n",
    "    return x1, x2\n",
    "\n",
    "## Option A - save each root in it's own variable\n",
    "root1, root2 = find_roots(2, -14, 24)\n",
    "print(f'The first root is {root1} and the second root is {root2}')\n",
    "\n",
    "## Option B - save the two roots in a single Tuple\n",
    "roots = find_roots(2, -14, 24)\n",
    "print(f'The first root is {roots[0]} and the second root is {roots[1]}')\n"
   ]
  },
  {
   "cell_type": "markdown",
   "metadata": {
    "id": "7M8cwx6d3r0N"
   },
   "source": [
    "The arguments of the functions can be passed to the function either by position or by name. All of the examples bellow are equivalent"
   ]
  },
  {
   "cell_type": "code",
   "execution_count": 43,
   "metadata": {
    "id": "Q4k9hMvz3r0N"
   },
   "outputs": [],
   "source": [
    "roots = find_roots(2, -14, 24)\n",
    "roots = find_roots(a=2, b=-14, c=24)\n",
    "roots = find_roots(c=24, b=-14, a=2)\n",
    "roots = find_roots(2, c=24, b=-14)"
   ]
  },
  {
   "cell_type": "markdown",
   "metadata": {
    "id": "-aJwlpFr3r0N"
   },
   "source": [
    "The arguments can also has a default value"
   ]
  },
  {
   "cell_type": "code",
   "execution_count": 44,
   "metadata": {
    "id": "sAj5d6W53r0N"
   },
   "outputs": [
    {
     "name": "stdout",
     "output_type": "stream",
     "text": [
      "Hello Winston Smith, how are you today?\n",
      "Howdy Winston Smith, how are you today?\n",
      "Good morning Winston Smith, how are you today?\n"
     ]
    }
   ],
   "source": [
    "def greeter(name, greeting='Hello'):\n",
    "    print(f'{greeting} {name}, how are you today?')\n",
    "\n",
    "greeter('Winston Smith')\n",
    "greeter('Winston Smith', 'Howdy')\n",
    "greeter('Winston Smith', greeting='Good morning')"
   ]
  },
  {
   "cell_type": "markdown",
   "metadata": {
    "id": "dMRKHH2i3r0N"
   },
   "source": [
    "#### Defining functions in-line\n",
    "\n",
    "Python also offers a way to define function in-line using the \"lambda\" command:\n",
    "\n",
    "``` python\n",
    "my_function = lambda arg1, arg2: do_something_with_args\n",
    "```\n",
    "\n",
    "(It is sometimes consider to be bad practice to use this method, but in many cases it makes the code cleaner)\n"
   ]
  },
  {
   "cell_type": "code",
   "execution_count": 45,
   "metadata": {
    "id": "mibMhLwB3r0N"
   },
   "outputs": [
    {
     "name": "stdout",
     "output_type": "stream",
     "text": [
      "2 to the power of 8 is: 256\n"
     ]
    }
   ],
   "source": [
    "power = lambda x, y: x ** y\n",
    "\n",
    "print(f'2 to the power of 8 is: {power(2, 8)}')"
   ]
  },
  {
   "cell_type": "markdown",
   "metadata": {
    "id": "VXUso0D13r0N"
   },
   "source": [
    "### Classes\n",
    "\n",
    "In order to deeply understand what are classes and how to use them you need to know a bit about object-oriented programing. In order to keep things simple, we will not dive into that subject and instead try to give a shallow explanation, which will be enough for you in order to start using them.\n",
    "\n",
    "When we define a new class, we in fact define a new type of object. Each class can contain internal variables and methods (functions). For example, lets say that we want to define a class which represents a pet with its name, current state and the some methods, which we can use to interact with it.\n",
    "\n",
    "The methods and inner variable of the object can be accessed using dot \".\", for example:\n",
    "\n",
    "``` ptyhon\n",
    "my_pet.name\n",
    "my_pet.feed()\n",
    "```\n",
    "\n",
    "Lets us first look at an example, and then explain it:\n"
   ]
  },
  {
   "cell_type": "code",
   "execution_count": 46,
   "metadata": {
    "id": "VUqjmz5W3r0N"
   },
   "outputs": [
    {
     "name": "stdout",
     "output_type": "stream",
     "text": [
      "The type of my_pet is: <class '__main__.Pet'>\n",
      "\n",
      "The name of my_pet is: Snoopy\n",
      "\n",
      "Hi I am Snoopy the dog, and I need to eat\n",
      "\n",
      "Feeding Snoopy\n",
      "Hi I am Snoopy the dog, and I need to poop\n",
      "\n",
      "Taking Snoopy for a walk\n",
      "Hi I am Snoopy the dog, and I need to sleep\n",
      "\n",
      "Snoopy is taking a nap\n",
      "Hi I am Snoopy the dog, and I need to eat\n",
      "\n"
     ]
    }
   ],
   "source": [
    "## Creating the class\n",
    "class Pet:\n",
    "    ## Defining the methods of the class:\n",
    "\n",
    "    def __init__(self, name, pet_type='dog'):\n",
    "        ## 1. The __init__ method is a special method which is called when the class is created.\n",
    "        ## 2. The self argument represent the object it self so we can interact with it.\n",
    "\n",
    "        ## Store the arguments to inner variables of the currect object (self).\n",
    "        self.name = name  # Save the argument name to the inner variable name\n",
    "        self.pet_type = pet_type\n",
    "\n",
    "        ## Set initial values for some other inner variables\n",
    "        self.hungry = True  # Set the initial value of the inner variable hungry.\n",
    "        self.needs_to_poop = False\n",
    "        self.tired = False\n",
    "\n",
    "    def print_state(self, greeting='Hi'):\n",
    "        ## Check the vaules of the inner variables to define the pet's state:\n",
    "        if self.hungry:\n",
    "            state = 'I need to eat'\n",
    "        elif self.needs_to_poop:\n",
    "            state = 'I need to poop'\n",
    "        elif self.tired:\n",
    "            state = 'I need to sleep'\n",
    "        else:\n",
    "            state = 'I am just fine.'\n",
    "        print(f'{greeting} I am {self.name} the {self.pet_type}, and {state}\\n')\n",
    "\n",
    "    def feed(self):\n",
    "        ## Update initial variables\n",
    "        self.hungry = False\n",
    "        self.needs_to_poop = True\n",
    "\n",
    "    def take_a_walk(self):\n",
    "        self.needs_to_poop = False\n",
    "        self.tired = True\n",
    "\n",
    "    def take_a_nap(self):\n",
    "        self.tired = False\n",
    "        self.hungry = True\n",
    "\n",
    "my_pet = Pet('Snoopy')\n",
    "\n",
    "print(f'The type of my_pet is: {type(my_pet)}\\n')\n",
    "print(f'The name of my_pet is: {my_pet.name}\\n')\n",
    "\n",
    "my_pet.print_state()\n",
    "\n",
    "print(f'Feeding {my_pet.name}')\n",
    "my_pet.feed()\n",
    "my_pet.print_state()\n",
    "\n",
    "print(f'Taking {my_pet.name} for a walk')\n",
    "my_pet.take_a_walk()\n",
    "my_pet.print_state()\n",
    "\n",
    "print(f'{my_pet.name} is taking a nap')\n",
    "my_pet.take_a_nap()\n",
    "my_pet.print_state()\n",
    "\n"
   ]
  },
  {
   "cell_type": "markdown",
   "metadata": {
    "id": "KLWLelZI3r0O"
   },
   "source": [
    "In the above example we have defined a class using the \"class\" command:\n",
    "\n",
    "``` python\n",
    "class my_class:\n",
    "    def method1(self, arg1, arg2):\n",
    "        do_something\n",
    "        return result\n",
    "\n",
    "    def method2(self, arg3):\n",
    "        do_something_else\n",
    "```\n",
    "\n",
    "#### The \"self\" argument\n",
    "\n",
    "Note that all the classes methods receive \"self\" as their first argument. This variable will hold the object itself so we can interact with it inside the methods.\n",
    "\n",
    "#### The \"\\_\\_init\\_\\_\" function\n",
    "\n",
    "Python allows us to define a few special method, which are called in specific cases. One important such method is  \\_\\_init\\_\\_. This method is called each time a we create a new object. The arguments of the \\_\\_init\\_\\_ method are argument which are used when creating a new object.\n",
    "\n",
    "In the above example, the \\_\\_init\\_\\_ function receives the argument 'Snoopy', which has been used in the line constructing the object:\n",
    "\n",
    "``` python\n",
    "my_pet = Pet('Snoopy')\n",
    "```"
   ]
  },
  {
   "cell_type": "markdown",
   "metadata": {
    "id": "2_FyI3Rx3r0O"
   },
   "source": [
    "## Packages\n",
    "\n",
    "What really gives Python it's power is the larger variety of packages which contain additional objects (variables, functions, classes, etc.). These packages can be easily imported and used as part of our code.\n",
    "\n",
    "In general each package needs to be installed separately using the \"pip install\" command. In practice, the packages which we will need in our course are already installed on the Colab servers.\n",
    "\n",
    "In this exercise we will show how to import and use a popular package called [NumPy](https://numpy.org/) which offers a larger set of tools for doing numerical work. This package is highly influenced by Matlab and many of the functions in the package have a similar signature (name, arguments return values) to the equivalent functions in Matlab.\n",
    "\n",
    "In addition to NumPy, in this course we will also be using the following packages:\n",
    "\n",
    "- [Matplotlib](matplotlib) - A ploting library with tries to mimic Matlab's plotting commands.\n",
    "- [Pandas](https://pandas.pydata.org/) - A package for working with datasets.\n",
    "- [scikit-learn](https://scikit-learn.org/) - A package offers a huge set of machine learning tools.\n",
    "- [PyTorch](https://pytorch.org/) - A package for working with neural networks\n",
    "\n",
    "\n",
    "Importing packages in Python is done using the \"import\" command:\n",
    "\n",
    "``` python\n",
    "import my_package\n",
    "```\n",
    "\n",
    "This will search of the \"my_package\" package and import it as a new object named \"my_package\". We can also rename the package when importing it using:\n",
    "\n",
    "``` python\n",
    "import my_package as alternative_name\n",
    "```\n",
    "\n",
    "For example it is common to import the NumPy package using the shorter name \"np\":\n",
    "\n",
    "``` python\n",
    "import numpy as np\n",
    "```\n",
    "\n",
    "(there is also a way to import only a specific object from a package, but we will not cover that here)."
   ]
  },
  {
   "cell_type": "markdown",
   "metadata": {
    "id": "Bdk_h8_53r0O"
   },
   "source": [
    "### NumPy\n",
    "\n",
    "We shall start by importing NumPy"
   ]
  },
  {
   "cell_type": "code",
   "execution_count": 48,
   "metadata": {
    "id": "ra2oMwxr3r0O"
   },
   "outputs": [],
   "source": [
    "import numpy as np"
   ]
  },
  {
   "cell_type": "markdown",
   "metadata": {
    "id": "w-KlsLYO3r0O"
   },
   "source": [
    "\n",
    "The most basic object in NumPy is the \"ndarray\" (N dimensional array). These objects highly resembles Matlab's basic variables. The \"array\" function converts a sequence to an ndarray:"
   ]
  },
  {
   "cell_type": "code",
   "execution_count": 49,
   "metadata": {
    "id": "sW2OVSTk3r0O"
   },
   "outputs": [
    {
     "name": "stdout",
     "output_type": "stream",
     "text": [
      "The type of my_array is <class 'numpy.ndarray'>\n",
      "[2 4 1 7]\n"
     ]
    }
   ],
   "source": [
    "my_array = np.array([2, 4, 1, 7])\n",
    "print(f'The type of my_array is {type(my_array)}')\n",
    "print(my_array)"
   ]
  },
  {
   "cell_type": "markdown",
   "metadata": {
    "id": "bM6tJiCt3r0O"
   },
   "source": [
    "It also converts a list of list into a 2D array:"
   ]
  },
  {
   "cell_type": "code",
   "execution_count": 50,
   "metadata": {
    "id": "Doe4dSNM3r0O"
   },
   "outputs": [
    {
     "name": "stdout",
     "output_type": "stream",
     "text": [
      "The type of my_array is <class 'numpy.ndarray'>\n",
      "[[2 4 1 7]\n",
      " [6 3 2 5]]\n"
     ]
    }
   ],
   "source": [
    "my_2d_array = np.array([[2, 4, 1, 7], [6, 3, 2, 5]])\n",
    "print(f'The type of my_array is {type(my_array)}')\n",
    "print(my_2d_array)"
   ]
  },
  {
   "cell_type": "markdown",
   "metadata": {
    "id": "Hy33uOX03r0O"
   },
   "source": [
    "The function \"random.randint\" generates an array of random integers (from a given range):\n",
    "\n",
    "``` python\n",
    "np.random.randint(low, high, size_as_a_tuple)\n",
    "```"
   ]
  },
  {
   "cell_type": "code",
   "execution_count": 51,
   "metadata": {
    "id": "7noCxesA3r0P"
   },
   "outputs": [
    {
     "name": "stdout",
     "output_type": "stream",
     "text": [
      "[[9 0 4 0]\n",
      " [6 2 9 6]\n",
      " [7 4 6 7]]\n"
     ]
    }
   ],
   "source": [
    "print(np.random.randint(0, 10, (3, 4)))"
   ]
  },
  {
   "cell_type": "markdown",
   "metadata": {
    "id": "dk1tivZ63r0P"
   },
   "source": [
    "By default, when using mathematical operations, such as addition and multiplications, they are performed element wise (on each element individually). (**Note** that this differs form matlab where the default is to treat every thing as a matrix)"
   ]
  },
  {
   "cell_type": "code",
   "execution_count": 52,
   "metadata": {
    "id": "Xg2_CDXW3r0P"
   },
   "outputs": [
    {
     "name": "stdout",
     "output_type": "stream",
     "text": [
      "matrix1:\n",
      "[[6 4 4]\n",
      " [5 3 4]\n",
      " [6 2 3]]\n",
      "\n",
      "matrix2:\n",
      "[[8 8 8]\n",
      " [0 3 3]\n",
      " [7 0 8]]\n",
      "\n",
      "The product of the two matrices is:\n",
      "[[48 32 32]\n",
      " [ 0  9 12]\n",
      " [42  0 24]]\n",
      "\n"
     ]
    }
   ],
   "source": [
    "matrix1 = np.random.randint(0, 10, (3, 3))\n",
    "print(f'matrix1:\\n{matrix1}\\n')\n",
    "matrix2 = np.random.randint(0, 10, (3, 3))\n",
    "print(f'matrix2:\\n{matrix2}\\n')\n",
    "\n",
    "print(f'The product of the two matrices is:\\n{matrix1 * matrix2}\\n')\n"
   ]
  },
  {
   "cell_type": "markdown",
   "metadata": {
    "id": "IcChjMI83r0P"
   },
   "source": [
    "Matrix multiplication can be performed using the \"@\" operator:"
   ]
  },
  {
   "cell_type": "code",
   "execution_count": 53,
   "metadata": {
    "id": "kX-uGi1o3r0P"
   },
   "outputs": [
    {
     "name": "stdout",
     "output_type": "stream",
     "text": [
      "matrix:\n",
      "[[8 4 5 4]\n",
      " [4 7 8 7]\n",
      " [3 2 2 5]]\n",
      "\n",
      "column_vec:\n",
      "[[3]\n",
      " [5]\n",
      " [0]\n",
      " [5]]\n",
      "\n",
      "The matrix multiplication of the two matrices is:\n",
      "[[64]\n",
      " [82]\n",
      " [44]]\n",
      "\n"
     ]
    }
   ],
   "source": [
    "matrix = np.random.randint(0, 10, (3, 4))\n",
    "print(f'matrix:\\n{matrix}\\n')\n",
    "column_vec = np.random.randint(0, 10, (4, 1))\n",
    "print(f'column_vec:\\n{column_vec}\\n')\n",
    "\n",
    "print(f'The matrix multiplication of the two matrices is:\\n{matrix @ column_vec}\\n')"
   ]
  },
  {
   "cell_type": "markdown",
   "metadata": {
    "id": "9r7Vwx2X3r0P"
   },
   "source": [
    "✍️ Edit the code below so that it will print the multiplication table (לוח הכפל).\n",
    "The transpose of a 2D array *x* can be created by *x.T*.\n"
   ]
  },
  {
   "cell_type": "code",
   "execution_count": 54,
   "metadata": {
    "id": "qSF3AVe73r0P"
   },
   "outputs": [
    {
     "name": "stdout",
     "output_type": "stream",
     "text": [
      "[[  0   0   0   0   0   0   0   0   0   0   0]\n",
      " [  0   1   2   3   4   5   6   7   8   9  10]\n",
      " [  0   2   4   6   8  10  12  14  16  18  20]\n",
      " [  0   3   6   9  12  15  18  21  24  27  30]\n",
      " [  0   4   8  12  16  20  24  28  32  36  40]\n",
      " [  0   5  10  15  20  25  30  35  40  45  50]\n",
      " [  0   6  12  18  24  30  36  42  48  54  60]\n",
      " [  0   7  14  21  28  35  42  49  56  63  70]\n",
      " [  0   8  16  24  32  40  48  56  64  72  80]\n",
      " [  0   9  18  27  36  45  54  63  72  81  90]\n",
      " [  0  10  20  30  40  50  60  70  80  90 100]]\n"
     ]
    }
   ],
   "source": [
    "a = np.array([[0, 1, 2, 3, 4, 5, 6, 7, 8, 9, 10]])\n",
    "\n",
    "## %%%%%%%%%%%%%%% Your code here - Begin %%%%%%%%%%%%%%%\n",
    "## Fill in the following line so that multiplication_table will store the 11 x 11 multiplication table (of the numbers between 0 and 10).\n",
    "multiplication_table = a.T * a\n",
    "## %%%%%%%%%%%%%%% Your code here - End %%%%%%%%%%%%%%%%%\n",
    "\n",
    "print(multiplication_table)"
   ]
  },
  {
   "cell_type": "markdown",
   "metadata": {
    "id": "KuiAlRhv3r0P"
   },
   "source": [
    "## Other on-line resources\n",
    "\n",
    "If you are looking for a quick rough overview take a look at:\n",
    "- [A Whirlwind Tour of Python](https://jakevdp.github.io/WhirlwindTourOfPython/): A short overview of the language which is oriented towards data science applications. Another resource from the same author is the [Python data science handbook](https://jakevdp.github.io/PythonDataScienceHandbook/)\n",
    "\n",
    "If you are looking for a more thorough on-line course try one of these:\n",
    "- [Python @ Tutorials Point](https://www.tutorialspoint.com/python/): One of the many free on-line Python courses.\n",
    "- [Python for data science](https://www.datacamp.com/courses/intro-to-python-for-data-science): Another on-line Python course. Free but requires registration.\n",
    "\n",
    "If you simply want to get started and have some Matlab experience, you can make use of these two web pages:\n",
    "- [NumPy for Matlab users 1](https://docs.scipy.org/doc/numpy/user/numpy-for-matlab-users.html): A good place to start with to get a grip of NumPy when coming from matlab.\n",
    "- [NumPy for Matlab users 2](http://mathesaurus.sourceforge.net/matlab-numpy.html): Another web page similar to the one above with  a slightly different set of commands.\n",
    "\n",
    "Once you feel comfortable with the basic Python syntax you can take a look at these short three guides to improve your NumPy, Pandas and Colab  capabilities:\n",
    "- [NumPy's quick start tutorial](https://www.numpy.org/devdocs/user/quickstart.html): A quick start tutorial on NumPy from NumPy's official website.\n",
    "- [10 Minutes to pandas](https://pandas.pydata.org/pandas-docs/stable/getting_started/10min.html): A quick start tutorial on Pandas from Pandas' official website.\n",
    "- [Welcome to Google Colabratory](https://colab.research.google.com/notebooks/welcome.ipynb): The official introduction to Google Colabratory."
   ]
  },
  {
   "cell_type": "code",
   "execution_count": null,
   "metadata": {
    "id": "tQAk2Wky3r0P"
   },
   "outputs": [],
   "source": []
  }
 ],
 "metadata": {
  "colab": {
   "provenance": []
  },
  "kernelspec": {
   "display_name": "Python 3",
   "language": "python",
   "name": "python3"
  },
  "language_info": {
   "codemirror_mode": {
    "name": "ipython",
    "version": 3
   },
   "file_extension": ".py",
   "mimetype": "text/x-python",
   "name": "python",
   "nbconvert_exporter": "python",
   "pygments_lexer": "ipython3",
   "version": "3.7.10"
  }
 },
 "nbformat": 4,
 "nbformat_minor": 1
}
